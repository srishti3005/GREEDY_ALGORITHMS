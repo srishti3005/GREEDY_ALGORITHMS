{
 "cells": [
  {
   "cell_type": "code",
   "execution_count": 1,
   "id": "2b20c76b",
   "metadata": {},
   "outputs": [],
   "source": [
    "#activity selection problem is the implementation that assumes the activities are already sorted according to their finish time\n",
    "#TIME COMPLEXITY: O(N)\n",
    "#SPACE COMPLEXITY: O(1)"
   ]
  },
  {
   "cell_type": "code",
   "execution_count": 3,
   "id": "faacef7e",
   "metadata": {},
   "outputs": [
    {
     "name": "stdout",
     "output_type": "stream",
     "text": [
      "Following activities are selected\n",
      "0 1 2 "
     ]
    }
   ],
   "source": [
    "def printMaxActivity(s,f):\n",
    "    n = len(f)\n",
    "    print(\"Following activities are selected\")\n",
    "    i=0\n",
    "    print (i, end=' ')\n",
    "    for j in range(1, n):\n",
    "        if s[j] >= f[i]:\n",
    "            print(j, end= ' ')\n",
    "            i=j\n",
    "if __name__ == '__main__':\n",
    "    s=[8,2,9,1,0]\n",
    "    f=[1,4,3,7,5]\n",
    "    printMaxActivity(s,f)"
   ]
  },
  {
   "cell_type": "code",
   "execution_count": 1,
   "id": "8ea7b45a",
   "metadata": {},
   "outputs": [
    {
     "name": "stdout",
     "output_type": "stream",
     "text": [
      "Minmum number of coins: 10 10 10 10 10 10 10 10 5 1 "
     ]
    }
   ],
   "source": [
    "#minimum number of coins \n",
    "#TIME COMPLEXITY: O(V)\n",
    "#SPACE COMPLEXITY: O(V)\n",
    "def findMin(V):\n",
    "    deno = [1,2,5,10,100,500,1000]\n",
    "    n= len(deno)\n",
    "    ans=[]\n",
    "    i= n-1\n",
    "    while(i>=0):\n",
    "        while(V>=deno[i]):\n",
    "            V-= deno[i]\n",
    "            ans.append(deno[i])\n",
    "        i-=1\n",
    "    for i in range(len(ans)):\n",
    "        print(ans[i], end=\" \")\n",
    "        \n",
    "if __name__ == '__main__':\n",
    "    n=86\n",
    "    print(\"Minmum number of coins:\", end=\" \")\n",
    "    findMin(n)"
   ]
  },
  {
   "cell_type": "code",
   "execution_count": 5,
   "id": "dd81acfb",
   "metadata": {},
   "outputs": [
    {
     "name": "stdout",
     "output_type": "stream",
     "text": [
      "3\n"
     ]
    }
   ],
   "source": [
    "#maximum height of pyramid\n",
    "#The idea is to use greedy approach by placing the object with the lowest width at the top, the next object at the\n",
    "#level right below and so on.\n",
    "#To find the maximum number of levels, sort the given array and try to form pyramid from top to bottom. \n",
    "#Find the smallest element of array i.e first element of array after sorting, place it on the top. \n",
    "#Then try to build levels below it with greater number of objects and greater width.\n",
    "#Time Complexity : O(n log n)\n",
    "def maxLevel(boxes,n):\n",
    "    boxes.sort()\n",
    "    ans = 1\n",
    "    prev_width = boxes[0]\n",
    "    prev_count = 0\n",
    "    curr_count = 0\n",
    "    curr_width = 0\n",
    "    for i in range(1,n):\n",
    "        curr_width += boxes[i]\n",
    "        curr_count += 1\n",
    "        if(curr_width>prev_width and curr_count>prev_count):\n",
    "            prev_width = curr_width\n",
    "            prev_count = curr_count\n",
    "            curr_count = 0\n",
    "            curr_width = 0\n",
    "            ans += 1\n",
    "    return ans\n",
    "    \n",
    "if __name__ == '__main__':\n",
    "    boxes = [10,50,70,80,90]\n",
    "    n = len(boxes)\n",
    "    print(maxLevel(boxes,n))"
   ]
  },
  {
   "cell_type": "code",
   "execution_count": null,
   "id": "b99dd889",
   "metadata": {},
   "outputs": [],
   "source": []
  }
 ],
 "metadata": {
  "kernelspec": {
   "display_name": "Python 3 (ipykernel)",
   "language": "python",
   "name": "python3"
  },
  "language_info": {
   "codemirror_mode": {
    "name": "ipython",
    "version": 3
   },
   "file_extension": ".py",
   "mimetype": "text/x-python",
   "name": "python",
   "nbconvert_exporter": "python",
   "pygments_lexer": "ipython3",
   "version": "3.10.6"
  }
 },
 "nbformat": 4,
 "nbformat_minor": 5
}
